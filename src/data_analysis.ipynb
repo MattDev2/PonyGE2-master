{
 "cells": [
  {
   "cell_type": "code",
   "execution_count": null,
   "metadata": {},
   "outputs": [],
   "source": [
    "#! /usr/bin/env python\n",
    "\n",
    "# PonyGE2\n",
    "# Copyright (c) 2017 Michael Fenton, James McDermott,\n",
    "#                    David Fagan, Stefan Forstenlechner,\n",
    "#                    and Erik Hemberg\n",
    "# Hereby licensed under the GNU GPL v3.\n",
    "\"\"\" Python GE implementation \"\"\"\n",
    "\n",
    "from utilities.algorithm.general import check_python_version\n",
    "\n",
    "check_python_version()\n",
    "import matplotlib\n",
    "matplotlib.use('Qt5Agg')\n",
    "%matplotlib inline\n",
    "import matplotlib.pyplot as plt\n",
    "from stats.stats import get_stats\n",
    "from algorithm.parameters import params, set_params\n",
    "import sys\n",
    "import time\n",
    "import numpy as np\n",
    "np.set_printoptions(linewidth=150)\n",
    "import random\n",
    "import os\n",
    "import pickle\n",
    "\n",
    "from utilities.stats import trackers\n",
    "from itertools import product\n"
   ]
  },
  {
   "attachments": {},
   "cell_type": "markdown",
   "metadata": {},
   "source": [
    "## Find a corrispondence between the hyperparameters combination and the index of the array of results"
   ]
  },
  {
   "cell_type": "code",
   "execution_count": null,
   "metadata": {},
   "outputs": [],
   "source": [
    "def find_hyperparam_combination_index(desired_hyperparam_values, hyperparameters):\n",
    "    # Generate all combinations of hyperparameter values\n",
    "    hyperparam_combinations = list(product(*[hyperparam['list'] for hyperparam in hyperparameters]))\n",
    "    \n",
    "    for i, combination in enumerate(hyperparam_combinations):\n",
    "        if all([desired_hyperparam_values[hyperparameters[j]['name']] == value for j, value in enumerate(combination)]):\n",
    "            return i\n",
    "    return -1  # Return -1 if the desired hyperparameter combination is not found\n",
    "\n",
    "# Example usage\n",
    "desired_hyperparam_values = {\n",
    "    \"MUTATION_PROBABILITY\": 0.2,\n",
    "    \"ANOTHER_HYPERPARAMETER\": 0.5\n",
    "}"
   ]
  },
  {
   "cell_type": "code",
   "execution_count": null,
   "metadata": {},
   "outputs": [],
   "source": [
    "import numpy as np\n",
    "from itertools import product\n",
    "\n",
    "def reshape_test_results(test_results, seeds, hyperparameters):\n",
    "    # Calculate the new shape for the test_results array\n",
    "    new_shape = (len(seeds),) + tuple(len(hyperparam['list']) for hyperparam in hyperparameters)\n",
    "\n",
    "    # Initialize an empty multidimensional array with the new shape\n",
    "    reshaped_test_results = np.zeros(new_shape)\n",
    "\n",
    "    # Iterate through the original test_results array\n",
    "    for seed_index in range(len(seeds)):\n",
    "        for i in range(test_results.shape[1]):\n",
    "            # Calculate the indices in the reshaped array using np.unravel_index\n",
    "            reshaped_indices = (seed_index,) + np.unravel_index(i, tuple(len(hyperparam['list']) for hyperparam in hyperparameters))\n",
    "\n",
    "            # Assign the result to the reshaped_test_results array using the calculated indices\n",
    "            reshaped_test_results[reshaped_indices] = test_results[seed_index, i]\n",
    "\n",
    "    return reshaped_test_results"
   ]
  },
  {
   "cell_type": "code",
   "execution_count": null,
   "metadata": {},
   "outputs": [],
   "source": [
    "\n",
    "array_of_results = []\n",
    "\n",
    "for i in range(5):\n",
    "    file_path = f\"./results_data/results_data_MUT_CROSS_TOURNSIZE_fold_{str(i+1)}.pkl\"\n",
    "\n",
    "    # Load the data\n",
    "    with open(file_path, 'rb') as f:\n",
    "        loaded_data = pickle.load(f)\n",
    "\n",
    "    # Access the loaded data\n",
    "    hyperparameters = loaded_data['hyperparameters']\n",
    "    seeds = loaded_data['seeds']\n",
    "    test_results = loaded_data['test_results']\n",
    "    train_results = loaded_data['train_results']\n",
    "    test_evolution = loaded_data['test_evolution']\n",
    "    train_evolution = loaded_data['train_evolution']\n",
    "\n",
    "    array_of_results.append(test_results)\n",
    "\n",
    "for i in range(len(array_of_results)):\n",
    "    print(array_of_results[i].shape) "
   ]
  },
  {
   "attachments": {},
   "cell_type": "markdown",
   "metadata": {},
   "source": [
    "## Reshape and compute the average of the values across the seeds"
   ]
  },
  {
   "cell_type": "code",
   "execution_count": null,
   "metadata": {},
   "outputs": [],
   "source": [
    "reshaped_results_array = []\n",
    "for i in range(len(array_of_results)):\n",
    "    reshaped_results_array.append(reshape_test_results(array_of_results[i], seeds, hyperparameters))\n",
    "    reshaped_results_array[i] = np.mean(reshaped_results_array[i], axis=0)\n",
    "    print(reshaped_results_array[i].shape)\n"
   ]
  },
  {
   "cell_type": "code",
   "execution_count": null,
   "metadata": {},
   "outputs": [],
   "source": [
    "folds = np.array(reshaped_results_array)\n",
    "mean_across_folds = np.mean(folds, axis = 0)\n",
    "std_across_folds = np.std(folds, axis = 0)\n",
    "print(mean_across_folds.shape)\n",
    "print(std_across_folds.shape)\n"
   ]
  },
  {
   "cell_type": "code",
   "execution_count": null,
   "metadata": {},
   "outputs": [],
   "source": [
    "import plotly.graph_objs as go\n",
    "import numpy as np\n",
    "\n",
    "# Assuming you have a (5, 5, 5) shaped array of mean test results\n",
    "# Replace with your actual mean_test_results array\n",
    "\n",
    "mean_test_results = mean_across_folds\n",
    "\n",
    "# Prepare the data for the 3D scatter plot\n",
    "x_values = []\n",
    "y_values = []\n",
    "z_values = []\n",
    "mean_values = []\n",
    "\n",
    "for i, hyperparam1 in enumerate(hyperparameters[0]['list']):\n",
    "    for j, hyperparam2 in enumerate(hyperparameters[1]['list']):\n",
    "        for k, hyperparam3 in enumerate(hyperparameters[2]['list']):\n",
    "            x_values.append(hyperparam1)\n",
    "            y_values.append(hyperparam2)\n",
    "            z_values.append(hyperparam3)\n",
    "            mean_values.append(mean_test_results[i, j, k])\n",
    "\n",
    "# Create the 3D scatter plot\n",
    "fig = go.Figure(data=[go.Scatter3d(\n",
    "    x=x_values,\n",
    "    y=y_values,\n",
    "    z=z_values,\n",
    "    mode='markers',\n",
    "    marker=dict(\n",
    "        size=6,\n",
    "        color=mean_values,                # set color to an array/list of desired values\n",
    "        colorscale='Viridis',             # choose a colorscale\n",
    "        opacity=0.8,\n",
    "        showscale=True,\n",
    "        colorbar=dict(title=\"Mean Test Result\")\n",
    "    ),\n",
    "    text=mean_values\n",
    ")])\n",
    "\n",
    "# Customize the plot\n",
    "fig.update_layout(scene=dict(xaxis_title=hyperparameters[0]['name'],\n",
    "                             yaxis_title=hyperparameters[1]['name'],\n",
    "                             zaxis_title=hyperparameters[2]['name']),\n",
    "                  margin=dict(l=0, r=0, b=0, t=0))\n",
    "\n",
    "# Show the plot\n",
    "fig.show()\n"
   ]
  },
  {
   "cell_type": "code",
   "execution_count": 41,
   "metadata": {},
   "outputs": [
    {
     "data": {
      "application/vnd.plotly.v1+json": {
       "config": {
        "plotlyServerURL": "https://plot.ly"
       },
       "data": [
        {
         "hovertemplate": "MUTATION_PROBABILITY=%{x}<br>CROSSOVER_PROBABILITY=%{y}<br>TOURNAMENT_SIZE=%{z}<br>std_dev=%{marker.size}<br>mean_test_result=%{marker.color}<extra></extra>",
         "legendgroup": "",
         "marker": {
          "color": [
           73.49915966386554,
           73.21512605042017,
           73.39159663865546,
           71.31260504201681,
           71.25714285714285,
           73.54621848739495,
           72.51260504201682,
           72.12941176470588,
           72.69075630252101,
           71.03361344537815,
           74.51932773109243,
           74.3327731092437,
           72.46890756302521,
           72.75294117647059,
           72.7579831932773,
           73.94453781512604,
           73.14957983193278,
           74.19495798319329,
           72.21680672268907,
           72.23529411764706,
           73.32605042016806,
           74.74957983193278,
           73.62689075630252,
           74.13949579831933,
           72.99495798319329,
           72.85882352941177,
           73.74117647058823,
           74.05546218487395,
           73.09243697478992,
           75.8672268907563,
           73.83529411764707,
           72.30252100840336,
           72.84705882352941,
           75.50084033613446,
           74.70420168067227,
           74.25378151260504,
           75.77142857142857,
           75.14957983193277,
           74.92773109243699,
           74.7546218487395,
           73.41680672268907,
           74.818487394958,
           74.2235294117647,
           75.49747899159664,
           74.58319327731093,
           73.03361344537817,
           74.98655462184874,
           73.31260504201683,
           74.99159663865547,
           74.63865546218487,
           74.8689075630252,
           74.9126050420168,
           74.30420168067228,
           75.50252100840336,
           75.22521008403362,
           74.70756302521008,
           74.35294117647058,
           72.9731092436975,
           73.37983193277311,
           74.6420168067227,
           73.60336134453783,
           72.81680672268907,
           73.2,
           75.28235294117647,
           73.03697478991596,
           72.56470588235295,
           73.67563025210083,
           73.90252100840335,
           73.94957983193277,
           73.32436974789917,
           71.92605042016807,
           74.28907563025209,
           74.04369747899159,
           73.19495798319329,
           74.23025210084033,
           74.25042016806722,
           73.84201680672268,
           75.04369747899162,
           73.55294117647058,
           73.94957983193277,
           73.38319327731094,
           72.72100840336135,
           73.47226890756303,
           75.03361344537817,
           74.23865546218488,
           72.39831932773109,
           74.23697478991596,
           74.29243697478992,
           74.51932773109243,
           74.57983193277312,
           71.36974789915966,
           73.02857142857144,
           73.7764705882353,
           71.25882352941177,
           73.89411764705883,
           72.85042016806723,
           74.46890756302523,
           74.64705882352942,
           73.24033613445378,
           72.2873949579832,
           73.09411764705882,
           73.61512605042017,
           74.0268907563025,
           74.9310924369748,
           73.47394957983194,
           73.03025210084033,
           74.47394957983194,
           72.05546218487395,
           73.38487394957983,
           73.27058823529413,
           75.03361344537815,
           73.82689075630253,
           74.07058823529412,
           74.11764705882354,
           73.94957983193278,
           72.68571428571428,
           71.40840336134454,
           73.1327731092437,
           72.34453781512606,
           73.65546218487395,
           73.99663865546218,
           72.8655462184874,
           73.9075630252101,
           74.24537815126051,
           74.29915966386555
          ],
          "coloraxis": "coloraxis",
          "opacity": 0.7,
          "size": [
           2.480512850426277,
           3.2818395774221116,
           2.434583584893715,
           3.521433158632135,
           2.9944165729311796,
           3.4945537538927818,
           3.9741556158838804,
           3.794955005916171,
           3.247798165562094,
           2.000409533665489,
           3.2690194619114465,
           4.939317091417303,
           3.6602109596951506,
           3.845918749095615,
           2.440937953895453,
           2.9082507565722264,
           2.84673536999649,
           3.5337244559347063,
           4.138279298692423,
           1.7043375876062183,
           2.610308582547886,
           3.6505439723964503,
           1.940238414257202,
           4.080586434659965,
           2.1920090347674726,
           3.417771753587636,
           3.6700679903428473,
           3.160198417145979,
           1.8481588087270187,
           2.9335045198094365,
           3.6922407508974024,
           3.436290536148571,
           3.6132905966458897,
           4.232924507179736,
           3.5081005253489663,
           0.7786139430677628,
           3.9852790340943343,
           4.02181186707682,
           1.5360425105338344,
           3.96984751438638,
           4.742956004901425,
           3.1844796988858843,
           3.2374023470432993,
           3.7943252593094963,
           4.3223727944723285,
           3.418712138237502,
           3.121509306676835,
           5.372555912871675,
           3.6577854106802627,
           2.1197801714860574,
           3.971153665666853,
           3.6137408517068574,
           4.162996373257704,
           4.25984083145467,
           2.543120949175523,
           2.904512899602259,
           3.470171094226418,
           3.923030379829107,
           3.3535051441203736,
           3.74053464939369,
           2.7164073192288707,
           4.533749812981674,
           2.943827856546576,
           3.4389265276733734,
           2.3125928277965495,
           3.8988640861598736,
           3.2317785111565756,
           2.080626110998851,
           2.1853134658121447,
           3.04322182363732,
           4.412878290831119,
           3.213424281777383,
           4.4101762646637575,
           3.8445553565288413,
           2.7165071431051184,
           1.408664062031193,
           3.7004205258803653,
           2.818895757711972,
           1.6311562943439684,
           2.892651323363012,
           4.1064557227864995,
           4.716621599578219,
           4.5036949420205685,
           2.6943016445081795,
           2.1972860110966743,
           4.264238828587414,
           2.5933508324862884,
           4.700712646571436,
           4.685274203801178,
           3.79641508003605,
           2.7019021825890244,
           2.814539509948517,
           2.5587185197368125,
           3.02641619281065,
           3.131636826425796,
           4.059365971025168,
           2.879038199841595,
           1.248797175681342,
           4.104467331164147,
           3.3892722169489256,
           3.919832188588672,
           2.3538077635874597,
           3.428713129383543,
           2.4731502179537976,
           3.9646186061261326,
           3.0254322980945725,
           3.5593512055101186,
           3.2002118424336023,
           3.7275719631719615,
           2.9294961345887502,
           3.8431062219553773,
           3.1299677271989497,
           2.7992029291112037,
           3.5450314632878603,
           3.4582175196548417,
           3.450406660445832,
           6.122690690330272,
           4.905681693035605,
           2.7415984094781662,
           2.7213815721398014,
           3.6986155625182664,
           1.6390475721340896,
           3.5337628242089885,
           2.3423193624617027,
           2.8820349188791736
          ],
          "sizemode": "area",
          "sizeref": 0.015306726725825679,
          "symbol": "circle"
         },
         "mode": "markers",
         "name": "",
         "scene": "scene",
         "showlegend": false,
         "type": "scatter3d",
         "x": [
          0,
          0,
          0,
          0,
          0,
          0,
          0,
          0,
          0,
          0,
          0,
          0,
          0,
          0,
          0,
          0,
          0,
          0,
          0,
          0,
          0,
          0,
          0,
          0,
          0,
          0.1,
          0.1,
          0.1,
          0.1,
          0.1,
          0.1,
          0.1,
          0.1,
          0.1,
          0.1,
          0.1,
          0.1,
          0.1,
          0.1,
          0.1,
          0.1,
          0.1,
          0.1,
          0.1,
          0.1,
          0.1,
          0.1,
          0.1,
          0.1,
          0.1,
          0.2,
          0.2,
          0.2,
          0.2,
          0.2,
          0.2,
          0.2,
          0.2,
          0.2,
          0.2,
          0.2,
          0.2,
          0.2,
          0.2,
          0.2,
          0.2,
          0.2,
          0.2,
          0.2,
          0.2,
          0.2,
          0.2,
          0.2,
          0.2,
          0.2,
          0.30000000000000004,
          0.30000000000000004,
          0.30000000000000004,
          0.30000000000000004,
          0.30000000000000004,
          0.30000000000000004,
          0.30000000000000004,
          0.30000000000000004,
          0.30000000000000004,
          0.30000000000000004,
          0.30000000000000004,
          0.30000000000000004,
          0.30000000000000004,
          0.30000000000000004,
          0.30000000000000004,
          0.30000000000000004,
          0.30000000000000004,
          0.30000000000000004,
          0.30000000000000004,
          0.30000000000000004,
          0.30000000000000004,
          0.30000000000000004,
          0.30000000000000004,
          0.30000000000000004,
          0.30000000000000004,
          0.4,
          0.4,
          0.4,
          0.4,
          0.4,
          0.4,
          0.4,
          0.4,
          0.4,
          0.4,
          0.4,
          0.4,
          0.4,
          0.4,
          0.4,
          0.4,
          0.4,
          0.4,
          0.4,
          0.4,
          0.4,
          0.4,
          0.4,
          0.4,
          0.4
         ],
         "y": [
          0.5,
          0.5,
          0.5,
          0.5,
          0.5,
          0.6,
          0.6,
          0.6,
          0.6,
          0.6,
          0.7,
          0.7,
          0.7,
          0.7,
          0.7,
          0.8,
          0.8,
          0.8,
          0.8,
          0.8,
          0.9,
          0.9,
          0.9,
          0.9,
          0.9,
          0.5,
          0.5,
          0.5,
          0.5,
          0.5,
          0.6,
          0.6,
          0.6,
          0.6,
          0.6,
          0.7,
          0.7,
          0.7,
          0.7,
          0.7,
          0.8,
          0.8,
          0.8,
          0.8,
          0.8,
          0.9,
          0.9,
          0.9,
          0.9,
          0.9,
          0.5,
          0.5,
          0.5,
          0.5,
          0.5,
          0.6,
          0.6,
          0.6,
          0.6,
          0.6,
          0.7,
          0.7,
          0.7,
          0.7,
          0.7,
          0.8,
          0.8,
          0.8,
          0.8,
          0.8,
          0.9,
          0.9,
          0.9,
          0.9,
          0.9,
          0.5,
          0.5,
          0.5,
          0.5,
          0.5,
          0.6,
          0.6,
          0.6,
          0.6,
          0.6,
          0.7,
          0.7,
          0.7,
          0.7,
          0.7,
          0.8,
          0.8,
          0.8,
          0.8,
          0.8,
          0.9,
          0.9,
          0.9,
          0.9,
          0.9,
          0.5,
          0.5,
          0.5,
          0.5,
          0.5,
          0.6,
          0.6,
          0.6,
          0.6,
          0.6,
          0.7,
          0.7,
          0.7,
          0.7,
          0.7,
          0.8,
          0.8,
          0.8,
          0.8,
          0.8,
          0.9,
          0.9,
          0.9,
          0.9,
          0.9
         ],
         "z": [
          2,
          3,
          4,
          6,
          8,
          2,
          3,
          4,
          6,
          8,
          2,
          3,
          4,
          6,
          8,
          2,
          3,
          4,
          6,
          8,
          2,
          3,
          4,
          6,
          8,
          2,
          3,
          4,
          6,
          8,
          2,
          3,
          4,
          6,
          8,
          2,
          3,
          4,
          6,
          8,
          2,
          3,
          4,
          6,
          8,
          2,
          3,
          4,
          6,
          8,
          2,
          3,
          4,
          6,
          8,
          2,
          3,
          4,
          6,
          8,
          2,
          3,
          4,
          6,
          8,
          2,
          3,
          4,
          6,
          8,
          2,
          3,
          4,
          6,
          8,
          2,
          3,
          4,
          6,
          8,
          2,
          3,
          4,
          6,
          8,
          2,
          3,
          4,
          6,
          8,
          2,
          3,
          4,
          6,
          8,
          2,
          3,
          4,
          6,
          8,
          2,
          3,
          4,
          6,
          8,
          2,
          3,
          4,
          6,
          8,
          2,
          3,
          4,
          6,
          8,
          2,
          3,
          4,
          6,
          8,
          2,
          3,
          4,
          6,
          8
         ]
        }
       ],
       "layout": {
        "coloraxis": {
         "colorbar": {
          "title": {
           "text": "mean_test_result"
          }
         },
         "colorscale": [
          [
           0,
           "#0d0887"
          ],
          [
           0.1111111111111111,
           "#46039f"
          ],
          [
           0.2222222222222222,
           "#7201a8"
          ],
          [
           0.3333333333333333,
           "#9c179e"
          ],
          [
           0.4444444444444444,
           "#bd3786"
          ],
          [
           0.5555555555555556,
           "#d8576b"
          ],
          [
           0.6666666666666666,
           "#ed7953"
          ],
          [
           0.7777777777777778,
           "#fb9f3a"
          ],
          [
           0.8888888888888888,
           "#fdca26"
          ],
          [
           1,
           "#f0f921"
          ]
         ]
        },
        "legend": {
         "itemsizing": "constant",
         "tracegroupgap": 0
        },
        "margin": {
         "b": 0,
         "l": 0,
         "r": 0,
         "t": 0
        },
        "scene": {
         "domain": {
          "x": [
           0,
           1
          ],
          "y": [
           0,
           1
          ]
         },
         "xaxis": {
          "title": {
           "text": "MUTATION_PROBABILITY"
          }
         },
         "yaxis": {
          "title": {
           "text": "CROSSOVER_PROBABILITY"
          }
         },
         "zaxis": {
          "title": {
           "text": "TOURNAMENT_SIZE"
          }
         }
        },
        "template": {
         "data": {
          "bar": [
           {
            "error_x": {
             "color": "#2a3f5f"
            },
            "error_y": {
             "color": "#2a3f5f"
            },
            "marker": {
             "line": {
              "color": "#E5ECF6",
              "width": 0.5
             },
             "pattern": {
              "fillmode": "overlay",
              "size": 10,
              "solidity": 0.2
             }
            },
            "type": "bar"
           }
          ],
          "barpolar": [
           {
            "marker": {
             "line": {
              "color": "#E5ECF6",
              "width": 0.5
             },
             "pattern": {
              "fillmode": "overlay",
              "size": 10,
              "solidity": 0.2
             }
            },
            "type": "barpolar"
           }
          ],
          "carpet": [
           {
            "aaxis": {
             "endlinecolor": "#2a3f5f",
             "gridcolor": "white",
             "linecolor": "white",
             "minorgridcolor": "white",
             "startlinecolor": "#2a3f5f"
            },
            "baxis": {
             "endlinecolor": "#2a3f5f",
             "gridcolor": "white",
             "linecolor": "white",
             "minorgridcolor": "white",
             "startlinecolor": "#2a3f5f"
            },
            "type": "carpet"
           }
          ],
          "choropleth": [
           {
            "colorbar": {
             "outlinewidth": 0,
             "ticks": ""
            },
            "type": "choropleth"
           }
          ],
          "contour": [
           {
            "colorbar": {
             "outlinewidth": 0,
             "ticks": ""
            },
            "colorscale": [
             [
              0,
              "#0d0887"
             ],
             [
              0.1111111111111111,
              "#46039f"
             ],
             [
              0.2222222222222222,
              "#7201a8"
             ],
             [
              0.3333333333333333,
              "#9c179e"
             ],
             [
              0.4444444444444444,
              "#bd3786"
             ],
             [
              0.5555555555555556,
              "#d8576b"
             ],
             [
              0.6666666666666666,
              "#ed7953"
             ],
             [
              0.7777777777777778,
              "#fb9f3a"
             ],
             [
              0.8888888888888888,
              "#fdca26"
             ],
             [
              1,
              "#f0f921"
             ]
            ],
            "type": "contour"
           }
          ],
          "contourcarpet": [
           {
            "colorbar": {
             "outlinewidth": 0,
             "ticks": ""
            },
            "type": "contourcarpet"
           }
          ],
          "heatmap": [
           {
            "colorbar": {
             "outlinewidth": 0,
             "ticks": ""
            },
            "colorscale": [
             [
              0,
              "#0d0887"
             ],
             [
              0.1111111111111111,
              "#46039f"
             ],
             [
              0.2222222222222222,
              "#7201a8"
             ],
             [
              0.3333333333333333,
              "#9c179e"
             ],
             [
              0.4444444444444444,
              "#bd3786"
             ],
             [
              0.5555555555555556,
              "#d8576b"
             ],
             [
              0.6666666666666666,
              "#ed7953"
             ],
             [
              0.7777777777777778,
              "#fb9f3a"
             ],
             [
              0.8888888888888888,
              "#fdca26"
             ],
             [
              1,
              "#f0f921"
             ]
            ],
            "type": "heatmap"
           }
          ],
          "heatmapgl": [
           {
            "colorbar": {
             "outlinewidth": 0,
             "ticks": ""
            },
            "colorscale": [
             [
              0,
              "#0d0887"
             ],
             [
              0.1111111111111111,
              "#46039f"
             ],
             [
              0.2222222222222222,
              "#7201a8"
             ],
             [
              0.3333333333333333,
              "#9c179e"
             ],
             [
              0.4444444444444444,
              "#bd3786"
             ],
             [
              0.5555555555555556,
              "#d8576b"
             ],
             [
              0.6666666666666666,
              "#ed7953"
             ],
             [
              0.7777777777777778,
              "#fb9f3a"
             ],
             [
              0.8888888888888888,
              "#fdca26"
             ],
             [
              1,
              "#f0f921"
             ]
            ],
            "type": "heatmapgl"
           }
          ],
          "histogram": [
           {
            "marker": {
             "pattern": {
              "fillmode": "overlay",
              "size": 10,
              "solidity": 0.2
             }
            },
            "type": "histogram"
           }
          ],
          "histogram2d": [
           {
            "colorbar": {
             "outlinewidth": 0,
             "ticks": ""
            },
            "colorscale": [
             [
              0,
              "#0d0887"
             ],
             [
              0.1111111111111111,
              "#46039f"
             ],
             [
              0.2222222222222222,
              "#7201a8"
             ],
             [
              0.3333333333333333,
              "#9c179e"
             ],
             [
              0.4444444444444444,
              "#bd3786"
             ],
             [
              0.5555555555555556,
              "#d8576b"
             ],
             [
              0.6666666666666666,
              "#ed7953"
             ],
             [
              0.7777777777777778,
              "#fb9f3a"
             ],
             [
              0.8888888888888888,
              "#fdca26"
             ],
             [
              1,
              "#f0f921"
             ]
            ],
            "type": "histogram2d"
           }
          ],
          "histogram2dcontour": [
           {
            "colorbar": {
             "outlinewidth": 0,
             "ticks": ""
            },
            "colorscale": [
             [
              0,
              "#0d0887"
             ],
             [
              0.1111111111111111,
              "#46039f"
             ],
             [
              0.2222222222222222,
              "#7201a8"
             ],
             [
              0.3333333333333333,
              "#9c179e"
             ],
             [
              0.4444444444444444,
              "#bd3786"
             ],
             [
              0.5555555555555556,
              "#d8576b"
             ],
             [
              0.6666666666666666,
              "#ed7953"
             ],
             [
              0.7777777777777778,
              "#fb9f3a"
             ],
             [
              0.8888888888888888,
              "#fdca26"
             ],
             [
              1,
              "#f0f921"
             ]
            ],
            "type": "histogram2dcontour"
           }
          ],
          "mesh3d": [
           {
            "colorbar": {
             "outlinewidth": 0,
             "ticks": ""
            },
            "type": "mesh3d"
           }
          ],
          "parcoords": [
           {
            "line": {
             "colorbar": {
              "outlinewidth": 0,
              "ticks": ""
             }
            },
            "type": "parcoords"
           }
          ],
          "pie": [
           {
            "automargin": true,
            "type": "pie"
           }
          ],
          "scatter": [
           {
            "fillpattern": {
             "fillmode": "overlay",
             "size": 10,
             "solidity": 0.2
            },
            "type": "scatter"
           }
          ],
          "scatter3d": [
           {
            "line": {
             "colorbar": {
              "outlinewidth": 0,
              "ticks": ""
             }
            },
            "marker": {
             "colorbar": {
              "outlinewidth": 0,
              "ticks": ""
             }
            },
            "type": "scatter3d"
           }
          ],
          "scattercarpet": [
           {
            "marker": {
             "colorbar": {
              "outlinewidth": 0,
              "ticks": ""
             }
            },
            "type": "scattercarpet"
           }
          ],
          "scattergeo": [
           {
            "marker": {
             "colorbar": {
              "outlinewidth": 0,
              "ticks": ""
             }
            },
            "type": "scattergeo"
           }
          ],
          "scattergl": [
           {
            "marker": {
             "colorbar": {
              "outlinewidth": 0,
              "ticks": ""
             }
            },
            "type": "scattergl"
           }
          ],
          "scattermapbox": [
           {
            "marker": {
             "colorbar": {
              "outlinewidth": 0,
              "ticks": ""
             }
            },
            "type": "scattermapbox"
           }
          ],
          "scatterpolar": [
           {
            "marker": {
             "colorbar": {
              "outlinewidth": 0,
              "ticks": ""
             }
            },
            "type": "scatterpolar"
           }
          ],
          "scatterpolargl": [
           {
            "marker": {
             "colorbar": {
              "outlinewidth": 0,
              "ticks": ""
             }
            },
            "type": "scatterpolargl"
           }
          ],
          "scatterternary": [
           {
            "marker": {
             "colorbar": {
              "outlinewidth": 0,
              "ticks": ""
             }
            },
            "type": "scatterternary"
           }
          ],
          "surface": [
           {
            "colorbar": {
             "outlinewidth": 0,
             "ticks": ""
            },
            "colorscale": [
             [
              0,
              "#0d0887"
             ],
             [
              0.1111111111111111,
              "#46039f"
             ],
             [
              0.2222222222222222,
              "#7201a8"
             ],
             [
              0.3333333333333333,
              "#9c179e"
             ],
             [
              0.4444444444444444,
              "#bd3786"
             ],
             [
              0.5555555555555556,
              "#d8576b"
             ],
             [
              0.6666666666666666,
              "#ed7953"
             ],
             [
              0.7777777777777778,
              "#fb9f3a"
             ],
             [
              0.8888888888888888,
              "#fdca26"
             ],
             [
              1,
              "#f0f921"
             ]
            ],
            "type": "surface"
           }
          ],
          "table": [
           {
            "cells": {
             "fill": {
              "color": "#EBF0F8"
             },
             "line": {
              "color": "white"
             }
            },
            "header": {
             "fill": {
              "color": "#C8D4E3"
             },
             "line": {
              "color": "white"
             }
            },
            "type": "table"
           }
          ]
         },
         "layout": {
          "annotationdefaults": {
           "arrowcolor": "#2a3f5f",
           "arrowhead": 0,
           "arrowwidth": 1
          },
          "autotypenumbers": "strict",
          "coloraxis": {
           "colorbar": {
            "outlinewidth": 0,
            "ticks": ""
           }
          },
          "colorscale": {
           "diverging": [
            [
             0,
             "#8e0152"
            ],
            [
             0.1,
             "#c51b7d"
            ],
            [
             0.2,
             "#de77ae"
            ],
            [
             0.3,
             "#f1b6da"
            ],
            [
             0.4,
             "#fde0ef"
            ],
            [
             0.5,
             "#f7f7f7"
            ],
            [
             0.6,
             "#e6f5d0"
            ],
            [
             0.7,
             "#b8e186"
            ],
            [
             0.8,
             "#7fbc41"
            ],
            [
             0.9,
             "#4d9221"
            ],
            [
             1,
             "#276419"
            ]
           ],
           "sequential": [
            [
             0,
             "#0d0887"
            ],
            [
             0.1111111111111111,
             "#46039f"
            ],
            [
             0.2222222222222222,
             "#7201a8"
            ],
            [
             0.3333333333333333,
             "#9c179e"
            ],
            [
             0.4444444444444444,
             "#bd3786"
            ],
            [
             0.5555555555555556,
             "#d8576b"
            ],
            [
             0.6666666666666666,
             "#ed7953"
            ],
            [
             0.7777777777777778,
             "#fb9f3a"
            ],
            [
             0.8888888888888888,
             "#fdca26"
            ],
            [
             1,
             "#f0f921"
            ]
           ],
           "sequentialminus": [
            [
             0,
             "#0d0887"
            ],
            [
             0.1111111111111111,
             "#46039f"
            ],
            [
             0.2222222222222222,
             "#7201a8"
            ],
            [
             0.3333333333333333,
             "#9c179e"
            ],
            [
             0.4444444444444444,
             "#bd3786"
            ],
            [
             0.5555555555555556,
             "#d8576b"
            ],
            [
             0.6666666666666666,
             "#ed7953"
            ],
            [
             0.7777777777777778,
             "#fb9f3a"
            ],
            [
             0.8888888888888888,
             "#fdca26"
            ],
            [
             1,
             "#f0f921"
            ]
           ]
          },
          "colorway": [
           "#636efa",
           "#EF553B",
           "#00cc96",
           "#ab63fa",
           "#FFA15A",
           "#19d3f3",
           "#FF6692",
           "#B6E880",
           "#FF97FF",
           "#FECB52"
          ],
          "font": {
           "color": "#2a3f5f"
          },
          "geo": {
           "bgcolor": "white",
           "lakecolor": "white",
           "landcolor": "#E5ECF6",
           "showlakes": true,
           "showland": true,
           "subunitcolor": "white"
          },
          "hoverlabel": {
           "align": "left"
          },
          "hovermode": "closest",
          "mapbox": {
           "style": "light"
          },
          "paper_bgcolor": "white",
          "plot_bgcolor": "#E5ECF6",
          "polar": {
           "angularaxis": {
            "gridcolor": "white",
            "linecolor": "white",
            "ticks": ""
           },
           "bgcolor": "#E5ECF6",
           "radialaxis": {
            "gridcolor": "white",
            "linecolor": "white",
            "ticks": ""
           }
          },
          "scene": {
           "xaxis": {
            "backgroundcolor": "#E5ECF6",
            "gridcolor": "white",
            "gridwidth": 2,
            "linecolor": "white",
            "showbackground": true,
            "ticks": "",
            "zerolinecolor": "white"
           },
           "yaxis": {
            "backgroundcolor": "#E5ECF6",
            "gridcolor": "white",
            "gridwidth": 2,
            "linecolor": "white",
            "showbackground": true,
            "ticks": "",
            "zerolinecolor": "white"
           },
           "zaxis": {
            "backgroundcolor": "#E5ECF6",
            "gridcolor": "white",
            "gridwidth": 2,
            "linecolor": "white",
            "showbackground": true,
            "ticks": "",
            "zerolinecolor": "white"
           }
          },
          "shapedefaults": {
           "line": {
            "color": "#2a3f5f"
           }
          },
          "ternary": {
           "aaxis": {
            "gridcolor": "white",
            "linecolor": "white",
            "ticks": ""
           },
           "baxis": {
            "gridcolor": "white",
            "linecolor": "white",
            "ticks": ""
           },
           "bgcolor": "#E5ECF6",
           "caxis": {
            "gridcolor": "white",
            "linecolor": "white",
            "ticks": ""
           }
          },
          "title": {
           "x": 0.05
          },
          "xaxis": {
           "automargin": true,
           "gridcolor": "white",
           "linecolor": "white",
           "ticks": "",
           "title": {
            "standoff": 15
           },
           "zerolinecolor": "white",
           "zerolinewidth": 2
          },
          "yaxis": {
           "automargin": true,
           "gridcolor": "white",
           "linecolor": "white",
           "ticks": "",
           "title": {
            "standoff": 15
           },
           "zerolinecolor": "white",
           "zerolinewidth": 2
          }
         }
        }
       }
      }
     },
     "metadata": {},
     "output_type": "display_data"
    }
   ],
   "source": [
    "import pandas as pd\n",
    "import plotly.express as px\n",
    "\n",
    "# Convert the mean_array and std_array to 1D arrays\n",
    "mean_flat = mean_across_folds.flatten()\n",
    "std_flat = std_across_folds.flatten()\n",
    "\n",
    "# Create a DataFrame with columns for x, y, z, mean_test_result, and std_dev\n",
    "data = {\n",
    "    hyperparameters[0]['name']: np.repeat(hyperparameters[0]['list'], len(hyperparameters[1]['list']) * len(hyperparameters[2]['list'])),\n",
    "    hyperparameters[1]['name']: np.tile(np.repeat(hyperparameters[1]['list'], len(hyperparameters[2]['list'])), len(hyperparameters[0]['list'])),\n",
    "    hyperparameters[2]['name']: np.tile(hyperparameters[2]['list'], len(hyperparameters[0]['list']) * len(hyperparameters[1]['list'])),\n",
    "    'mean_test_result': mean_flat,\n",
    "    'std_dev': std_flat\n",
    "}\n",
    "\n",
    "df = pd.DataFrame(data)\n",
    "\n",
    "# Create the 3D scatter plot\n",
    "fig = px.scatter_3d(df,\n",
    "                    x=hyperparameters[0]['name'],\n",
    "                    y=hyperparameters[1]['name'],\n",
    "                    z=hyperparameters[2]['name'],\n",
    "                    color='mean_test_result',\n",
    "                    size='std_dev',\n",
    "                    size_max=30,\n",
    "                    opacity=0.7)\n",
    "\n",
    "# Customize the plot\n",
    "fig.update_layout(scene=dict(xaxis_title=hyperparameters[0]['name'],\n",
    "                             yaxis_title=hyperparameters[1]['name'],\n",
    "                             zaxis_title=hyperparameters[2]['name']),\n",
    "                  margin=dict(l=0, r=0, b=0, t=0))\n",
    "\n",
    "fig.show()\n"
   ]
  },
  {
   "cell_type": "code",
   "execution_count": null,
   "metadata": {},
   "outputs": [],
   "source": [
    "import plotly.graph_objs as go\n",
    "import numpy as np\n",
    "\n",
    "# Assuming you have a (5, 5, 5) shaped array of mean test results\n",
    "# Replace with your actual mean_test_results array\n",
    "\n",
    "# Prepare the data for the 3D scatter plot\n",
    "x_values = []\n",
    "y_values = []\n",
    "z_values = []\n",
    "mean_values = []\n",
    "\n",
    "for i, hyperparam1 in enumerate(hyperparameters[0]['list']):\n",
    "    for j, hyperparam2 in enumerate(hyperparameters[1]['list']):\n",
    "        for k, hyperparam3 in enumerate(hyperparameters[2]['list']):\n",
    "            x_values.append(hyperparam1)\n",
    "            y_values.append(hyperparam2)\n",
    "            z_values.append(hyperparam3)\n",
    "            mean_values.append(mean_test_results[i, j, k])\n",
    "\n",
    "# Create the 3D scatter plot\n",
    "fig = go.Figure(data=[go.Scatter3d(\n",
    "    x=x_values,\n",
    "    y=y_values,\n",
    "    z=z_values,\n",
    "    mode='markers',\n",
    "    marker=dict(\n",
    "        size=6,\n",
    "        color=mean_values,                # set color to an array/list of desired values\n",
    "        colorscale='Viridis',             # choose a colorscale\n",
    "        opacity=0.8,\n",
    "        showscale=True,\n",
    "        colorbar=dict(title=\"Mean Test Result\")\n",
    "    ),\n",
    "    text=mean_values\n",
    ")])\n",
    "\n",
    "# Customize the plot\n",
    "fig.update_layout(scene=dict(xaxis_title=hyperparameters[0]['name'],\n",
    "                             yaxis_title=hyperparameters[1]['name'],\n",
    "                             zaxis_title=hyperparameters[2]['name']),\n",
    "                  margin=dict(l=0, r=0, b=0, t=0))\n",
    "\n",
    "# Show the plot\n",
    "fig.show()"
   ]
  },
  {
   "cell_type": "code",
   "execution_count": null,
   "metadata": {},
   "outputs": [],
   "source": [
    "for i in range(5):\n",
    "    file_path = f\"./results_data/results_data_fold_{str(i+1)}.pkl\"\n",
    "\n",
    "    with open(file_path, 'rb') as f:\n",
    "        loaded_data = pickle.load(f)\n",
    "\n",
    "    # Access the loaded data\n",
    "    hyperparam = loaded_data['hyperparam']\n",
    "    hyperparam_list = hyperparam['list']\n",
    "    seeds = loaded_data['seeds']\n",
    "    test_results = loaded_data['test_results']\n",
    "    train_results = loaded_data['train_results']\n",
    "    test_evolution = loaded_data['test_evolution']\n",
    "    train_evolution = loaded_data['train_evolution']\n",
    "\n",
    "    avg_train_evoltion = np.mean(train_evolution, axis = 0)\n",
    "    avg_test_evolution = np.mean(test_evolution, axis = 0)\n",
    "\n",
    "    print(\"VALUES FOR FOLD\",i+1)\n",
    "    for j in range(test_evolution.shape[1]):\n",
    "        \n",
    "        print(\"SEED is\", seeds[j])\n",
    "        print(\"MUT_Value\", hyperparam_list[j])\n",
    "        #plt.plot(train_evolution[0][j], label = \"Train Performances\")\n",
    "        #plt.plot(test_evolution[0][j], label = \"Test Performances\")\n",
    "        avg_train_evoltion = np.mean(train_evolution, axis=0)\n",
    "        avg_test_evolution = np.mean(test_evolution, axis = 0)\n",
    "        plt.plot(avg_train_evoltion[j], label = \"Train Performances\")\n",
    "        plt.plot(avg_test_evolution[j], label = \"Test Performances\")\n",
    "        plt.legend()\n",
    "        \n",
    "        plt.xlabel(\"Generations\")\n",
    "        plt.ylabel(\"Accuracy\")\n",
    "\n",
    "        plt.show()\n"
   ]
  },
  {
   "cell_type": "code",
   "execution_count": null,
   "metadata": {},
   "outputs": [],
   "source": [
    "matplotlib.use('Qt5Agg')\n",
    "%matplotlib inline\n",
    "\n",
    "\n",
    "# Generate mutation values\n",
    "mean = np.mean(test_results, axis = 0)\n",
    "std = np.std(test_results, axis = 0)\n",
    "\n",
    "# Plot mean and standard deviation\n",
    "plt.plot(hyperparam_list, mean, label=\"Mean\")\n",
    "plt.fill_between(hyperparam_list, mean - std, mean + std, alpha=0.3, label=\"Std\")\n",
    "\n",
    "# Set axis labels and title\n",
    "plt.xlabel(\"Mutation Values\", fontsize=16)\n",
    "plt.ylabel(\"Fitness Values\", fontsize=16)\n",
    "plt.title(\"Mean and Standard Deviation\", fontsize=16)\n",
    "\n",
    "# Set xticks to display actual values of mutation_values rounded to 2 decimal places\n",
    "rounded_x = np.round(hyperparam_list, 2)\n",
    "plt.xticks(hyperparam_list, rounded_x, fontsize = 12)\n",
    "\n",
    "# Add legend and display the plot\n",
    "plt.legend()\n",
    "plt.show()\n"
   ]
  },
  {
   "cell_type": "code",
   "execution_count": null,
   "metadata": {},
   "outputs": [],
   "source": [
    "import numpy as np\n",
    "import matplotlib.pyplot as plt\n",
    "import seaborn as sns\n",
    "\n",
    "# Assuming test_results is a 2D numpy array with shape (num_seeds, num_hyperparams)\n",
    "\n",
    "# Calculate the average performance across seeds (axis 0)\n",
    "avg_test_results = np.mean(test_results, axis=0)\n",
    "\n",
    "\n",
    "# Set up the box plot\n",
    "sns.set(style='whitegrid')\n",
    "plt.figure(figsize=(10, 6))\n",
    "\n",
    "# Create the box plot\n",
    "sns.boxplot(data=test_results)\n",
    "\n",
    "# Set plot labels and title\n",
    "plt.xlabel('Hyperparameter Combination')\n",
    "plt.ylabel('Performance')\n",
    "plt.title('Box Plot of Test Results for Different Hyperparameter Combinations')\n",
    "\n",
    "# Show the plot\n",
    "plt.show()\n"
   ]
  },
  {
   "cell_type": "code",
   "execution_count": null,
   "metadata": {},
   "outputs": [],
   "source": [
    "import matplotlib.pyplot as plt\n",
    "\n",
    "# Assuming avg_test_results is a 1D numpy array with shape (num_hyperparams,)\n",
    "# and hyperparam_values is a 1D numpy array with the hyperparameter values\n",
    "\n",
    "# Create a scatter plot\n",
    "plt.scatter(hyperparam_list, avg_test_results)\n",
    "\n",
    "# Set plot labels and title\n",
    "plt.xlabel('Hyperparameter')\n",
    "plt.ylabel('Performance')\n",
    "plt.title('Scatter Plot of Test Results for Different Hyperparameter Values')\n",
    "\n",
    "# Show the plot\n",
    "plt.show()\n"
   ]
  },
  {
   "cell_type": "code",
   "execution_count": null,
   "metadata": {},
   "outputs": [],
   "source": [
    "# Create a line plot\n",
    "plt.plot(hyperparam_list, avg_test_results, marker='o')\n",
    "\n",
    "# Set plot labels and title\n",
    "plt.xlabel('Hyperparameter')\n",
    "plt.ylabel('Performance')\n",
    "plt.title('Line Plot of Test Results for Different Hyperparameter Values')\n",
    "\n",
    "# Show the plot\n",
    "plt.show()\n"
   ]
  },
  {
   "cell_type": "code",
   "execution_count": null,
   "metadata": {},
   "outputs": [],
   "source": [
    "\n",
    "print(train_evolution.shape)\n",
    "agg_train_evolution = np.mean(train_evolution, axis=0)\n",
    "print(agg_train_evolution.shape)\n",
    "\n",
    "print(agg_train_evolution[0])\n",
    "\n",
    "\n",
    "plt.plot(agg_train_evolution[1])\n",
    "plt.show()"
   ]
  }
 ],
 "metadata": {
  "kernelspec": {
   "display_name": "Python 3",
   "language": "python",
   "name": "python3"
  },
  "language_info": {
   "codemirror_mode": {
    "name": "ipython",
    "version": 3
   },
   "file_extension": ".py",
   "mimetype": "text/x-python",
   "name": "python",
   "nbconvert_exporter": "python",
   "pygments_lexer": "ipython3",
   "version": "3.10.6"
  },
  "orig_nbformat": 4
 },
 "nbformat": 4,
 "nbformat_minor": 2
}
